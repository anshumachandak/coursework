{
  "nbformat": 4,
  "nbformat_minor": 0,
  "metadata": {
    "colab": {
      "name": "Untitled0.ipynb",
      "version": "0.3.2",
      "provenance": [],
      "include_colab_link": true
    },
    "kernelspec": {
      "name": "python3",
      "display_name": "Python 3"
    }
  },
  "cells": [
    {
      "cell_type": "markdown",
      "metadata": {
        "id": "view-in-github",
        "colab_type": "text"
      },
      "source": [
        "[View in Colaboratory](https://colab.research.google.com/github/anshumachandak/coursework/blob/master/HW1_AML.ipynb)"
      ]
    },
    {
      "metadata": {
        "id": "OpFBIJJjpTjv",
        "colab_type": "text"
      },
      "cell_type": "markdown",
      "source": [
        "Problem 1: \n",
        "\n",
        "a) The first Markov chain has an invariant distribution, and it not unique. The valid equilibria if we start from 3 and 4 are (0,0,0,1) & (0,0,1,0) respectively. It is not unique because we can't move every state to another.\n",
        "\n",
        "The secong Markov Chain also has invariant distribution, but it is unique because we can freely move from one every state to every other state.\n",
        "\n",
        "b) Gambler's fallacy constitues a hidden markov model because each variables has a dependency on the previous variable i.e. an unlucky strike is followed by a lucky strike. \n",
        "\n"
      ]
    }
  ]
}